{
 "cells": [
  {
   "cell_type": "markdown",
   "id": "b0ff9143-b5ca-4d58-8cd6-320c4ff2feb3",
   "metadata": {},
   "source": [
    "# ANA675 Assignment #1\n",
    "\n",
    "Intro: \n",
    "To process mail efficiently and route each letter to the correct destination, postal service computers must be able to scan handwritten names, addresses and zip codes and recognize the letters and digits.\n",
    "\n",
    "Goal:\n",
    "Predict which digit an image represents (recognize handwritten digits)\n",
    "\n",
    "Compare KNeighborsClassifier, SVC and GaussianNB"
   ]
  },
  {
   "cell_type": "code",
   "execution_count": 7,
   "id": "6cc2cf7b-f59f-4944-8ccc-93a8b82136ca",
   "metadata": {},
   "outputs": [],
   "source": [
    "# Load dataset\n",
    "from sklearn import datasets\n",
    "digits = datasets.load_digits()\n",
    "\n",
    "# Features: From the dataset description, we know that there are 64 features and 1797 instances of handwritten numbers (0-9) input as 8X8 pixel images\n",
    "X = digits.data\n",
    "\n",
    "# Labels: Number represented by handwriting (0-9)\n",
    "y = digits.target"
   ]
  },
  {
   "cell_type": "code",
   "execution_count": 8,
   "id": "e2bf5070-09da-4ed7-be10-f9ca3c6ba9a2",
   "metadata": {},
   "outputs": [
    {
     "name": "stdout",
     "output_type": "stream",
     "text": [
      "Shape of X: (1797, 64)\n",
      "Shape of y: (1797,)\n"
     ]
    },
    {
     "data": {
      "image/png": "[encoded data removed]",
      "text/plain": [
       "<Figure size 640x480 with 1 Axes>"
      ]
     },
     "metadata": {},
     "output_type": "display_data"
    }
   ],
   "source": [
    "# Explore the data\n",
    "import matplotlib.pyplot as plt\n",
    "\n",
    "# Check the shape of the data\n",
    "print(\"Shape of X:\", X.shape)\n",
    "print(\"Shape of y:\", y.shape)\n",
    "\n",
    "# Visualize the first image\n",
    "plt.imshow(X[0].reshape(8, 8), cmap='gray')\n",
    "plt.title(f\"Label: {y[0]}\")\n",
    "plt.show()"
   ]
  },
  {
   "cell_type": "code",
   "execution_count": 12,
   "id": "7170f3b8-b3f3-4c9b-8ed1-a33cc040636b",
   "metadata": {},
   "outputs": [
    {
     "name": "stdout",
     "output_type": "stream",
     "text": [
      "Shape of X_train (1437, 64)\n",
      "Shape of y_train (1437,)\n",
      "Shape of X_test (360, 64)\n",
      "Shape of y_test (360,)\n"
     ]
    }
   ],
   "source": [
    "# Split the dataset for training and testing\n",
    "from sklearn.model_selection import train_test_split\n",
    "\n",
    "# Assign 80% for training, 20% for testing\n",
    "X_train, X_test, y_train, y_test = train_test_split(X, y, test_size=0.2, random_state=88)\n",
    "\n",
    "# Let’s see if this worked as expected:\n",
    "print(\"Shape of X_train\", X_train.shape)\n",
    "print(\"Shape of y_train\", y_train.shape)\n",
    "print(\"Shape of X_test\", X_test.shape)\n",
    "print(\"Shape of y_test\", y_test.shape)"
   ]
  },
  {
   "cell_type": "code",
   "execution_count": 32,
   "id": "d6ebb9b3-d388-4f04-9681-043fd9a84997",
   "metadata": {},
   "outputs": [
    {
     "name": "stdout",
     "output_type": "stream",
     "text": [
      "Predicted digits (first 20):  [2 5 5 8 4 7 0 1 3 1 5 6 4 8 0 8 8 5 2 8]\n",
      "Expected digits (first 20):  [2 5 5 8 4 7 0 1 3 1 5 6 4 8 0 8 8 5 2 8]\n",
      "\n",
      "KNN Accuracy: 0.9806\n"
     ]
    }
   ],
   "source": [
    "# Build a model using KNeighborsClassifier\n",
    "\n",
    "from sklearn.neighbors import KNeighborsClassifier\n",
    "from sklearn.metrics import accuracy_score\n",
    "\n",
    "# Create the KNeighborsClassifier object\n",
    "knn_model = KNeighborsClassifier()\n",
    "\n",
    "# Fit the model to the training digits data\n",
    "knn_model.fit(X_train, y_train)\n",
    "\n",
    "# Make predictions on the test digits data\n",
    "y_pred_knn = knn_model.predict(X_test)\n",
    "\n",
    "# Check predicted vs expected digit labels\n",
    "print(\"Predicted digits (first 20): \", y_pred_knn[:20])\n",
    "print(\"Expected digits (first 20): \", y_test[:20])\n",
    "\n",
    "# Evaluate the model's performance\n",
    "accuracy_knn = round(accuracy_score(y_test, y_pred_knn),4)\n",
    "print(\"\\nKNN Accuracy:\", accuracy_knn)    "
   ]
  },
  {
   "cell_type": "code",
   "execution_count": 31,
   "id": "883e6a10-9c1e-4497-b26f-8e84ec8ea9f4",
   "metadata": {},
   "outputs": [
    {
     "name": "stdout",
     "output_type": "stream",
     "text": [
      "Predicted digits (first 20):  [2 5 5 8 4 7 0 1 3 1 5 6 4 8 0 8 8 5 2 8]\n",
      "Expected digits (first 20):  [2 5 5 8 4 7 0 1 3 1 5 6 4 8 0 8 8 5 2 8]\n",
      "\n",
      "SVM Accuracy: 0.9861\n"
     ]
    }
   ],
   "source": [
    "# Build a model using SVM\n",
    "\n",
    "from sklearn import svm\n",
    "\n",
    "# Create the SVM object - Default Kernal; Radial Basis Function (RBF)\n",
    "svm_model = svm.SVC(random_state = 88, probability = True)\n",
    "\n",
    "#Fit the model to the training digits data\n",
    "svm_model.fit(X_train, y_train)\n",
    "\n",
    "# Make predictions on the test digits data\n",
    "y_pred_svm = svm_model.predict(X_test)\n",
    "\n",
    "# Check predicted vs expected digit labels\n",
    "print(\"Predicted digits (first 20): \", y_pred_svm[:20])\n",
    "print(\"Expected digits (first 20): \", y_test[:20])\n",
    "\n",
    "# Evaluate the model's performance\n",
    "accuracy_svm = round(accuracy_score(y_test, y_pred_svm),4)\n",
    "print(\"\\nSVM Accuracy:\", accuracy_svm)"
   ]
  },
  {
   "cell_type": "code",
   "execution_count": 30,
   "id": "58288b77-0362-46fc-ae76-4dd040dbd0ff",
   "metadata": {},
   "outputs": [
    {
     "name": "stdout",
     "output_type": "stream",
     "text": [
      "Predicted digits (first 20):  [8 5 5 8 4 7 0 1 3 1 5 6 4 8 0 8 8 5 2 8]\n",
      "Expected digits (first 20):  [2 5 5 8 4 7 0 1 3 1 5 6 4 8 0 8 8 5 2 8]\n",
      "\n",
      "GNB Accuracy: 0.8417\n"
     ]
    }
   ],
   "source": [
    "# Build a model using GaussianNB\n",
    "\n",
    "from sklearn.naive_bayes import GaussianNB\n",
    "\n",
    "# Create the Gaussian Naive Bayes object\n",
    "gnb_model = GaussianNB()\n",
    "\n",
    "#Fit the model to the training digits data\n",
    "gnb_model.fit(X_train, y_train)\n",
    "\n",
    "# Make predictions on the test digits data\n",
    "y_pred_gnb = gnb_model.predict(X_test)\n",
    "\n",
    "# Check predicted vs expected digit labels\n",
    "print(\"Predicted digits (first 20): \", y_pred_gnb[:20])\n",
    "print(\"Expected digits (first 20): \", y_test[:20])\n",
    "\n",
    "# Evaluate the model's performance\n",
    "accuracy_gnb = round(accuracy_score(y_test, y_pred_gnb),4)\n",
    "print(\"\\nGNB Accuracy:\", accuracy_gnb)"
   ]
  },
  {
   "cell_type": "code",
   "execution_count": 48,
   "id": "9c4c8716-9d22-4c02-9688-65b670d1e904",
   "metadata": {},
   "outputs": [
    {
     "name": "stdout",
     "output_type": "stream",
     "text": [
      "KNN Accuracy: 0.9806\n",
      "SVM Accuracy: 0.9861\n",
      "GNB Accuracy: 0.8417\n"
     ]
    }
   ],
   "source": [
    "# Compare the 3 models side by side\n",
    "\n",
    "print(\"KNN Accuracy:\", round(accuracy_knn, 4)) \n",
    "print(\"SVM Accuracy:\", accuracy_svm)\n",
    "print(\"GNB Accuracy:\", accuracy_gnb)"
   ]
  },
  {
   "cell_type": "markdown",
   "id": "b44d0214-dfa3-4099-9f3b-25197ad2bb02",
   "metadata": {},
   "source": [
    "With un-tuned models:\n",
    "- SVM has the highest accuracy in predicting the correct hand-written digit = 98.61%"
   ]
  },
  {
   "cell_type": "code",
   "execution_count": 42,
   "id": "ddece686-a9af-4f91-bf06-2b6153e12fcd",
   "metadata": {},
   "outputs": [],
   "source": [
    "# Fine-tune Models\n",
    "\n",
    "from sklearn.model_selection import KFold, cross_val_score, GridSearchCV\n",
    "\n",
    "# Set Up KFold for Cross-Validation\n",
    "kf = KFold(n_splits=5, shuffle=True, random_state=88)\n",
    "\n",
    "# Define KNN Hyperparameter Grid\n",
    "knn_param_grid = {\n",
    "    'n_neighbors': [3, 5, 7, 9, 11],\n",
    "    'weights': ['uniform', 'distance'],\n",
    "    'metric': ['euclidean', 'manhattan']\n",
    "}\n",
    "\n",
    "# Define SVM Hyperparameter Grid\n",
    "svm_param_grid = {\n",
    "    'C': [0.1, 1, 10, 100],\n",
    "    'kernel': ['linear', 'rbf'],\n",
    "    'gamma': ['scale', 'auto']\n",
    "}\n",
    "\n",
    "# Define GaussianNB Hyperparameter Grid\n",
    "gnb_param_grid = {\n",
    "    'var_smoothing': [1e-9, 1e-8, 1e-7, 1e-6]\n",
    "}"
   ]
  },
  {
   "cell_type": "code",
   "execution_count": 44,
   "id": "41e5cf5a-bb5e-49c3-9cab-ba9a276f31a9",
   "metadata": {},
   "outputs": [],
   "source": [
    "# Set Up Grid Search for Each Model\n",
    "\n",
    "# KNeighborsClassifier\n",
    "knn_grid_search = GridSearchCV(\n",
    "    estimator=KNeighborsClassifier(),\n",
    "    param_grid=knn_param_grid,\n",
    "    cv=kf,\n",
    "    scoring='accuracy',  # Use accuracy as the scoring metric\n",
    "    n_jobs=-1  # Use all cores for parallel processing\n",
    ")\n",
    "\n",
    "# SVM\n",
    "svm_grid_search = GridSearchCV(\n",
    "    estimator=svm.SVC(),\n",
    "    param_grid=svm_param_grid,\n",
    "    cv=kf,\n",
    "    scoring='accuracy',\n",
    "    n_jobs=-1\n",
    ")\n",
    "\n",
    "# Gaussian Naive Bayes\n",
    "gnb_grid_search = GridSearchCV(\n",
    "    estimator=GaussianNB(),\n",
    "    param_grid=gnb_param_grid,\n",
    "    cv=kf,\n",
    "    scoring='accuracy',\n",
    "    n_jobs=-1\n",
    ")"
   ]
  },
  {
   "cell_type": "code",
   "execution_count": 47,
   "id": "e5d9f041-5412-4383-96a3-b6e8fa7acf06",
   "metadata": {},
   "outputs": [
    {
     "name": "stdout",
     "output_type": "stream",
     "text": [
      "Best hyperparameters for KNN: {'metric': 'euclidean', 'n_neighbors': 3, 'weights': 'uniform'}\n",
      "Best cross-validation accuracy for KNN: 0.9861\n",
      "\n",
      "Best hyperparameters for SVM: {'C': 10, 'gamma': 'scale', 'kernel': 'rbf'}\n",
      "Best cross-validation accuracy for SVM: 0.9883\n",
      "\n",
      "Best hyperparameters for GaussianNB: {'var_smoothing': 1e-06}\n",
      "Best cross-validation accuracy for GaussianNB: 0.8815\n"
     ]
    }
   ],
   "source": [
    "# Fit the Models and Find the Best Parameters\n",
    "\n",
    "# Fit KNeighborsClassifier\n",
    "knn_grid_search.fit(X, y)\n",
    "print(f\"Best hyperparameters for KNN: {knn_grid_search.best_params_}\")\n",
    "print(f\"Best cross-validation accuracy for KNN: {round(knn_grid_search.best_score_, 4)}\")\n",
    "\n",
    "# Fit SVM\n",
    "svm_grid_search.fit(X, y)\n",
    "print(f\"\\nBest hyperparameters for SVM: {svm_grid_search.best_params_}\")\n",
    "print(f\"Best cross-validation accuracy for SVM: {round(svm_grid_search.best_score_, 4)}\")\n",
    "\n",
    "# Fit GaussianNB\n",
    "gnb_grid_search.fit(X, y)\n",
    "print(f\"\\nBest hyperparameters for GaussianNB: {gnb_grid_search.best_params_}\")\n",
    "print(f\"Best cross-validation accuracy for GaussianNB: {round(gnb_grid_search.best_score_, 4)}\")"
   ]
  },
  {
   "cell_type": "markdown",
   "id": "c9086516-2bd0-4bee-a45f-b163a495a243",
   "metadata": {},
   "source": [
    "With tuned models:\n",
    "- SVM still has the highest accuracy in predicting the correct hand-written digit = 98.83%\n",
    "- This improved 0.22% from the un-tuned SVM to the tuned SVM model\n",
    "- Move forward with SVM as the best model for this dataset"
   ]
  },
  {
   "cell_type": "code",
   "execution_count": 55,
   "id": "8312aa93-3495-4d84-9f1e-966f0117da14",
   "metadata": {},
   "outputs": [
    {
     "name": "stdout",
     "output_type": "stream",
     "text": [
      "Fine-tuned SVM Accuracy: 0.9883\n",
      "Confusion Matrix: \n",
      "[[29  0  0  0  0  0  0  0  0  0]\n",
      " [ 0 29  0  0  0  0  0  0  0  0]\n",
      " [ 0  0 43  0  0  0  0  0  0  0]\n",
      " [ 0  0  0 31  0  0  0  0  0  0]\n",
      " [ 0  0  0  0 35  0  0  0  0  0]\n",
      " [ 0  0  0  0  0 48  1  0  0  2]\n",
      " [ 0  0  0  0  0  0 43  0  1  0]\n",
      " [ 0  0  0  0  0  0  0 30  0  0]\n",
      " [ 0  0  0  0  0  0  0  0 36  0]\n",
      " [ 0  0  0  0  0  1  0  0  0 31]]\n"
     ]
    },
    {
     "data": {
      "image/png": "[encoded data removed]",
      "text/plain": [
       "<Figure size 640x480 with 2 Axes>"
      ]
     },
     "metadata": {},
     "output_type": "display_data"
    },
    {
     "name": "stdout",
     "output_type": "stream",
     "text": [
      "Classification Report: \n",
      "              precision    recall  f1-score   support\n",
      "\n",
      "           0       1.00      1.00      1.00        29\n",
      "           1       1.00      1.00      1.00        29\n",
      "           2       1.00      1.00      1.00        43\n",
      "           3       1.00      1.00      1.00        31\n",
      "           4       1.00      1.00      1.00        35\n",
      "           5       0.98      0.94      0.96        51\n",
      "           6       0.98      0.98      0.98        44\n",
      "           7       1.00      1.00      1.00        30\n",
      "           8       0.97      1.00      0.99        36\n",
      "           9       0.94      0.97      0.95        32\n",
      "\n",
      "    accuracy                           0.99       360\n",
      "   macro avg       0.99      0.99      0.99       360\n",
      "weighted avg       0.99      0.99      0.99       360\n",
      "\n"
     ]
    }
   ],
   "source": [
    "# Report SVM Model Metrics More Clearly\n",
    "\n",
    "from sklearn.metrics import confusion_matrix, classification_report, ConfusionMatrixDisplay\n",
    "\n",
    "# Re-Print Accuraxy\n",
    "print(f'Fine-tuned SVM Accuracy: {round(svm_grid_search.best_score_, 4)}')\n",
    "\n",
    "# Make predictions on the test digits data\n",
    "y_pred_svm_tuned = svm_model.predict(X_test)\n",
    "\n",
    "# Create a Confusion Matrix\n",
    "conf_matrix = confusion_matrix(y_test, y_pred_svm_tuned)\n",
    "print(\"Confusion Matrix: \")\n",
    "print(conf_matrix)\n",
    "\n",
    "# Visualize the Confusion Matrix\n",
    "ConfusionMatrixDisplay(conf_matrix, display_labels=digits.target_names).plot(cmap='Reds')\n",
    "plt.title(\"Confusion Matrix\")\n",
    "plt.show()\n",
    "\n",
    "# Generate a Classification Report\n",
    "class_report = classification_report(y_test, y_pred_svm_tuned, target_names=[str(d) for d in digits.target_names])\n",
    "print(\"Classification Report: \")\n",
    "print(class_report)"
   ]
  },
  {
   "cell_type": "markdown",
   "id": "55c8bcc6-db96-4e5e-a68c-5eeed880cf8b",
   "metadata": {},
   "source": [
    "We can see from the Confusion Matrix and Classification Report above that the SVM model struggled the most with identifying 5s and 9s accurately. \n",
    "\n",
    "Fives (Precision = 98%, Recall = 94%, and F1 = 96%):\n",
    "- Three true 5s (out of 51 total) were incorrectly identified in the predictions(one as a 6, and two as 9s)\n",
    "- While one true 9 was incorrectly identified as a 5\n",
    "\n",
    "Nines (Precision = 94%, Recall = 97%, and F1 = 95%):\n",
    "- As mentioned above, one true 9 (out of 32 total) was incorrectly identified as a 5\n",
    "- While two true 5s were incorrectly identifies as a 9\n",
    "\n",
    "Therefore, while this SVM model is the best of the models tested, and has very high accuracy (98.83%, if we were to apply this model in real life, it might be helpful to combine it with another model that has higher prediction and recall for 5s and 9s (i.e. use Ensemble Learning), to prevent mis-identification of these digits. \n"
   ]
  }
 ],
 "metadata": {
  "kernelspec": {
   "display_name": "Python 3 (ipykernel)",
   "language": "python",
   "name": "python3"
  },
  "language_info": {
   "codemirror_mode": {
    "name": "ipython",
    "version": 3
   },
   "file_extension": ".py",
   "mimetype": "text/x-python",
   "name": "python",
   "nbconvert_exporter": "python",
   "pygments_lexer": "ipython3",
   "version": "3.12.4"
  }
 },
 "nbformat": 4,
 "nbformat_minor": 5
}
